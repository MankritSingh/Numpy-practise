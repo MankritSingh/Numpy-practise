{
 "cells": [
  {
   "cell_type": "code",
   "execution_count": 1,
   "id": "ba4c642f",
   "metadata": {},
   "outputs": [],
   "source": [
    "import numpy as np"
   ]
  },
  {
   "cell_type": "markdown",
   "id": "c533c4c9",
   "metadata": {},
   "source": [
    "***markdown***"
   ]
  },
  {
   "cell_type": "code",
   "execution_count": 2,
   "id": "b9b8a155",
   "metadata": {},
   "outputs": [],
   "source": [
    "array=np.array([1,2,3]) #declaring np array"
   ]
  },
  {
   "cell_type": "code",
   "execution_count": 3,
   "id": "38d8b3e2",
   "metadata": {},
   "outputs": [],
   "source": [
    "array_with_datasize=np.array([1,2,3],np.int8)"
   ]
  },
  {
   "cell_type": "code",
   "execution_count": 4,
   "id": "430840fd",
   "metadata": {},
   "outputs": [
    {
     "data": {
      "text/plain": [
       "array([1, 2, 3])"
      ]
     },
     "execution_count": 4,
     "metadata": {},
     "output_type": "execute_result"
    }
   ],
   "source": [
    "array"
   ]
  },
  {
   "cell_type": "code",
   "execution_count": 5,
   "id": "e79b08d1",
   "metadata": {},
   "outputs": [
    {
     "data": {
      "text/plain": [
       "2"
      ]
     },
     "execution_count": 5,
     "metadata": {},
     "output_type": "execute_result"
    }
   ],
   "source": [
    "array[1]"
   ]
  },
  {
   "cell_type": "code",
   "execution_count": 6,
   "id": "ec36bd35",
   "metadata": {},
   "outputs": [
    {
     "data": {
      "text/plain": [
       "1"
      ]
     },
     "execution_count": 6,
     "metadata": {},
     "output_type": "execute_result"
    }
   ],
   "source": [
    "array[0]"
   ]
  },
  {
   "cell_type": "code",
   "execution_count": 16,
   "id": "e2c9aa91",
   "metadata": {},
   "outputs": [
    {
     "data": {
      "text/plain": [
       "array([23, 23, 24], dtype=int8)"
      ]
     },
     "execution_count": 16,
     "metadata": {},
     "output_type": "execute_result"
    }
   ],
   "source": [
    "np.array({23,23,24}) #can make from set too but dtype is object"
   ]
  },
  {
   "cell_type": "markdown",
   "id": "e842439b",
   "metadata": {},
   "source": [
    "# Important np array functons"
   ]
  },
  {
   "cell_type": "markdown",
   "id": "d7f0258e",
   "metadata": {},
   "source": [
    "**(1) shape gives the (row,column)**"
   ]
  },
  {
   "cell_type": "code",
   "execution_count": 7,
   "id": "3bccc181",
   "metadata": {},
   "outputs": [
    {
     "data": {
      "text/plain": [
       "(3,)"
      ]
     },
     "execution_count": 7,
     "metadata": {},
     "output_type": "execute_result"
    }
   ],
   "source": [
    "array.shape"
   ]
  },
  {
   "cell_type": "code",
   "execution_count": 8,
   "id": "801215a8",
   "metadata": {},
   "outputs": [],
   "source": [
    "multi_array_2=np.array([[1,2,3],[4,5,6]])"
   ]
  },
  {
   "cell_type": "code",
   "execution_count": 9,
   "id": "2b29448b",
   "metadata": {},
   "outputs": [
    {
     "data": {
      "text/plain": [
       "array([[1, 2, 3],\n",
       "       [4, 5, 6]])"
      ]
     },
     "execution_count": 9,
     "metadata": {},
     "output_type": "execute_result"
    }
   ],
   "source": [
    "multi_array_2"
   ]
  },
  {
   "cell_type": "code",
   "execution_count": 11,
   "id": "54a07d2a",
   "metadata": {},
   "outputs": [
    {
     "data": {
      "text/plain": [
       "(2, 3)"
      ]
     },
     "execution_count": 11,
     "metadata": {},
     "output_type": "execute_result"
    }
   ],
   "source": [
    "multi_array_2.shape"
   ]
  },
  {
   "cell_type": "markdown",
   "id": "bc6b91e1",
   "metadata": {},
   "source": [
    "**(2) dtype gives the datatype of np array elements**"
   ]
  },
  {
   "cell_type": "code",
   "execution_count": 12,
   "id": "c40b4e3b",
   "metadata": {},
   "outputs": [
    {
     "data": {
      "text/plain": [
       "dtype('int64')"
      ]
     },
     "execution_count": 12,
     "metadata": {},
     "output_type": "execute_result"
    }
   ],
   "source": [
    "array.dtype"
   ]
  },
  {
   "cell_type": "code",
   "execution_count": 13,
   "id": "dc9de195",
   "metadata": {},
   "outputs": [
    {
     "data": {
      "text/plain": [
       "dtype('int8')"
      ]
     },
     "execution_count": 13,
     "metadata": {},
     "output_type": "execute_result"
    }
   ],
   "source": [
    "array_with_datasize.dtype"
   ]
  },
  {
   "cell_type": "markdown",
   "id": "9b959f97",
   "metadata": {},
   "source": [
    "**(3) reshape it changes the shape of an array.The number of elements will remain same**"
   ]
  },
  {
   "cell_type": "code",
   "execution_count": 17,
   "id": "40671f8f",
   "metadata": {},
   "outputs": [
    {
     "data": {
      "text/plain": [
       "array([[1, 2],\n",
       "       [3, 4],\n",
       "       [5, 6]])"
      ]
     },
     "execution_count": 17,
     "metadata": {},
     "output_type": "execute_result"
    }
   ],
   "source": [
    "multi_array_2.reshape((3,2))"
   ]
  },
  {
   "cell_type": "markdown",
   "id": "c5213dd1",
   "metadata": {},
   "source": [
    "**(4) ravel will make the array 1D array**"
   ]
  },
  {
   "cell_type": "code",
   "execution_count": 18,
   "id": "5039bd2f",
   "metadata": {},
   "outputs": [
    {
     "data": {
      "text/plain": [
       "array([1, 2, 3, 4, 5, 6])"
      ]
     },
     "execution_count": 18,
     "metadata": {},
     "output_type": "execute_result"
    }
   ],
   "source": [
    "multi_array_2.ravel()"
   ]
  },
  {
   "cell_type": "markdown",
   "id": "17ced63c",
   "metadata": {},
   "source": [
    "**(5) argmax Returns the indices of the maximum values along an axis.\n",
    "  (6) argmin Returns the indices of the minimum values along an axis.**"
   ]
  },
  {
   "cell_type": "markdown",
   "id": "3f005e7e",
   "metadata": {},
   "source": [
    "**(7)copy:If we copy numpy array like normal variable then the original variable also changes.Therefore we use copy function**"
   ]
  },
  {
   "cell_type": "markdown",
   "id": "16b7ebd3",
   "metadata": {},
   "source": [
    "**(8)Vertical Stack: vstack() connects arrays of with same no of columns vertically**"
   ]
  },
  {
   "cell_type": "code",
   "execution_count": 71,
   "id": "56f34de6",
   "metadata": {},
   "outputs": [
    {
     "data": {
      "text/plain": [
       "array([[1, 2, 3],\n",
       "       [4, 5, 6]])"
      ]
     },
     "execution_count": 71,
     "metadata": {},
     "output_type": "execute_result"
    }
   ],
   "source": [
    "ar1=np.array((1,2,3))\n",
    "ar2=np.array((4,5,6))\n",
    "\n",
    "np.vstack((ar1,ar2))"
   ]
  },
  {
   "cell_type": "markdown",
   "id": "f8f16343",
   "metadata": {},
   "source": [
    "**(9)Horizontal Stack: hstack() connects arrays of with same no of columns vertically**"
   ]
  },
  {
   "cell_type": "code",
   "execution_count": 72,
   "id": "0c47c3be",
   "metadata": {},
   "outputs": [
    {
     "data": {
      "text/plain": [
       "array([[ 1,  2, 11, 22],\n",
       "       [ 3,  4, 34, 43]])"
      ]
     },
     "execution_count": 72,
     "metadata": {},
     "output_type": "execute_result"
    }
   ],
   "source": [
    "hr1=np.array([[1,2],\n",
    "              [3,4]])\n",
    "hr2=np.array([[11,22],\n",
    "              [34,43]])\n",
    "np.hstack((hr1,hr2))"
   ]
  },
  {
   "cell_type": "markdown",
   "id": "32882a83",
   "metadata": {},
   "source": [
    "# Axis"
   ]
  },
  {
   "cell_type": "markdown",
   "id": "dc13a04a",
   "metadata": {},
   "source": [
    "**Axis0 corresponds to down the columns Axis1 corresponds to right the row**"
   ]
  },
  {
   "cell_type": "code",
   "execution_count": 23,
   "id": "1d5dde25",
   "metadata": {},
   "outputs": [
    {
     "data": {
      "text/plain": [
       "6"
      ]
     },
     "execution_count": 23,
     "metadata": {},
     "output_type": "execute_result"
    }
   ],
   "source": [
    "array.sum(axis=0) "
   ]
  },
  {
   "cell_type": "code",
   "execution_count": 27,
   "id": "45e11b55",
   "metadata": {},
   "outputs": [
    {
     "data": {
      "text/plain": [
       "array([[1, 2, 3],\n",
       "       [4, 5, 6]])"
      ]
     },
     "execution_count": 27,
     "metadata": {},
     "output_type": "execute_result"
    }
   ],
   "source": [
    "multi_array_2"
   ]
  },
  {
   "cell_type": "code",
   "execution_count": 28,
   "id": "0a7a1ee7",
   "metadata": {},
   "outputs": [
    {
     "data": {
      "text/plain": [
       "array([5, 7, 9])"
      ]
     },
     "execution_count": 28,
     "metadata": {},
     "output_type": "execute_result"
    }
   ],
   "source": [
    "multi_array_2.sum(axis=0)"
   ]
  },
  {
   "cell_type": "code",
   "execution_count": 30,
   "id": "6906ecd4",
   "metadata": {},
   "outputs": [
    {
     "data": {
      "text/plain": [
       "array([ 6, 15])"
      ]
     },
     "execution_count": 30,
     "metadata": {},
     "output_type": "execute_result"
    }
   ],
   "source": [
    "multi_array_2.sum(axis=1)"
   ]
  },
  {
   "cell_type": "markdown",
   "id": "204cd11f",
   "metadata": {},
   "source": [
    "# Accessing rows and column"
   ]
  },
  {
   "cell_type": "markdown",
   "id": "7d2a8a7c",
   "metadata": {},
   "source": [
    "# array[rowStart:rowEnd(excluded) ,columnStart:columnEnd(excluded)]"
   ]
  },
  {
   "cell_type": "code",
   "execution_count": 35,
   "id": "602dc054",
   "metadata": {},
   "outputs": [
    {
     "data": {
      "text/plain": [
       "array([[2],\n",
       "       [5]])"
      ]
     },
     "execution_count": 35,
     "metadata": {},
     "output_type": "execute_result"
    }
   ],
   "source": [
    "multi_array_2[:,1:2]"
   ]
  },
  {
   "cell_type": "code",
   "execution_count": 42,
   "id": "0c937513",
   "metadata": {},
   "outputs": [
    {
     "data": {
      "text/plain": [
       "array([[1, 2]])"
      ]
     },
     "execution_count": 42,
     "metadata": {},
     "output_type": "execute_result"
    }
   ],
   "source": [
    "multi_array_2[0:1,:-1]"
   ]
  },
  {
   "cell_type": "markdown",
   "id": "845618c0",
   "metadata": {},
   "source": [
    "# PRACTISE:draw a 5x5 matrix with 1 at borders and 0 everywhere else with 9 at centre"
   ]
  },
  {
   "cell_type": "code",
   "execution_count": 63,
   "id": "99312538",
   "metadata": {},
   "outputs": [],
   "source": [
    "newar=np.ones((5,5))"
   ]
  },
  {
   "cell_type": "code",
   "execution_count": 66,
   "id": "9feb5798",
   "metadata": {},
   "outputs": [],
   "source": [
    "newar[1:-1,1:-1]=0"
   ]
  },
  {
   "cell_type": "code",
   "execution_count": 68,
   "id": "bf159ec6",
   "metadata": {},
   "outputs": [],
   "source": [
    "newar[2][2]=9"
   ]
  },
  {
   "cell_type": "code",
   "execution_count": 69,
   "id": "a0d37646",
   "metadata": {},
   "outputs": [
    {
     "data": {
      "text/plain": [
       "array([[1., 1., 1., 1., 1.],\n",
       "       [1., 0., 0., 0., 1.],\n",
       "       [1., 0., 9., 0., 1.],\n",
       "       [1., 0., 0., 0., 1.],\n",
       "       [1., 1., 1., 1., 1.]])"
      ]
     },
     "execution_count": 69,
     "metadata": {},
     "output_type": "execute_result"
    }
   ],
   "source": [
    "newar"
   ]
  },
  {
   "cell_type": "markdown",
   "id": "1250b6d9",
   "metadata": {},
   "source": [
    "### We can index numpy array with list ie multiple values(also with true and false)"
   ]
  },
  {
   "cell_type": "code",
   "execution_count": 73,
   "id": "f86ab097",
   "metadata": {},
   "outputs": [
    {
     "data": {
      "text/plain": [
       "array([[1, 1, 1],\n",
       "       [4, 5, 6]])"
      ]
     },
     "execution_count": 73,
     "metadata": {},
     "output_type": "execute_result"
    }
   ],
   "source": [
    "multi_array_2"
   ]
  },
  {
   "cell_type": "code",
   "execution_count": 81,
   "id": "da048b75",
   "metadata": {},
   "outputs": [
    {
     "data": {
      "text/plain": [
       "array([1, 6])"
      ]
     },
     "execution_count": 81,
     "metadata": {},
     "output_type": "execute_result"
    }
   ],
   "source": [
    "multi_array_2[[0,1],[0,2]]"
   ]
  }
 ],
 "metadata": {
  "kernelspec": {
   "display_name": "Python 3",
   "language": "python",
   "name": "python3"
  },
  "language_info": {
   "codemirror_mode": {
    "name": "ipython",
    "version": 3
   },
   "file_extension": ".py",
   "mimetype": "text/x-python",
   "name": "python",
   "nbconvert_exporter": "python",
   "pygments_lexer": "ipython3",
   "version": "3.6.9"
  }
 },
 "nbformat": 4,
 "nbformat_minor": 5
}
